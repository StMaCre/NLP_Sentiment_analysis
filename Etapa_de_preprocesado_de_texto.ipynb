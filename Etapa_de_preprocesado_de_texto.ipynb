{
  "nbformat": 4,
  "nbformat_minor": 0,
  "metadata": {
    "colab": {
      "provenance": [],
      "authorship_tag": "ABX9TyNh2CMeRsisknwx+hiUv3N9",
      "include_colab_link": true
    },
    "kernelspec": {
      "name": "python3",
      "display_name": "Python 3"
    },
    "language_info": {
      "name": "python"
    }
  },
  "cells": [
    {
      "cell_type": "markdown",
      "metadata": {
        "id": "view-in-github",
        "colab_type": "text"
      },
      "source": [
        "<a href=\"https://colab.research.google.com/github/StMaCre/Sentiment_analysis/blob/main/Etapa_de_preprocesado_de_texto.ipynb\" target=\"_parent\"><img src=\"https://colab.research.google.com/assets/colab-badge.svg\" alt=\"Open In Colab\"/></a>"
      ]
    },
    {
      "cell_type": "markdown",
      "source": [
        "# Etapa de preprocesado de texto"
      ],
      "metadata": {
        "id": "EWgh2birYK_j"
      }
    },
    {
      "cell_type": "code",
      "execution_count": 27,
      "metadata": {
        "id": "VxActA0CYGtU"
      },
      "outputs": [],
      "source": [
        "# Import of the libraries\n",
        "import pandas as pd\n",
        "import string\n",
        "import nltk\n",
        "from nltk.corpus import stopwords\n",
        "from nltk.stem import WordNetLemmatizer"
      ]
    },
    {
      "cell_type": "code",
      "source": [
        "# Import of the sampled data \n",
        "df = pd.read_csv('/content/sampled_data_file.csv')"
      ],
      "metadata": {
        "id": "5fFFCzK2Yehh"
      },
      "execution_count": 3,
      "outputs": []
    },
    {
      "cell_type": "code",
      "source": [
        "# Downloading the stopwords list \n",
        "nltk.download('stopwords')\n",
        "stopwords = stopwords.words('english')\n",
        "stopwords = set(stopwords) - set(['not', 'no', 'nor', 'but'])"
      ],
      "metadata": {
        "colab": {
          "base_uri": "https://localhost:8080/"
        },
        "id": "Q0pm0f3lbdy0",
        "outputId": "335c61c4-315e-4917-dab3-27c12e1123dd"
      },
      "execution_count": 28,
      "outputs": [
        {
          "output_type": "stream",
          "name": "stderr",
          "text": [
            "[nltk_data] Downloading package stopwords to /root/nltk_data...\n",
            "[nltk_data]   Package stopwords is already up-to-date!\n"
          ]
        }
      ]
    },
    {
      "cell_type": "code",
      "source": [
        "# Download the punkt ressource \n",
        "nltk.download('punkt')  "
      ],
      "metadata": {
        "colab": {
          "base_uri": "https://localhost:8080/"
        },
        "id": "2HPC1izqcDK1",
        "outputId": "4b0a1585-857c-41ec-8d3b-fe5ee74407fc"
      },
      "execution_count": 7,
      "outputs": [
        {
          "output_type": "stream",
          "name": "stderr",
          "text": [
            "[nltk_data] Downloading package punkt to /root/nltk_data...\n",
            "[nltk_data]   Unzipping tokenizers/punkt.zip.\n"
          ]
        },
        {
          "output_type": "execute_result",
          "data": {
            "text/plain": [
              "True"
            ]
          },
          "metadata": {},
          "execution_count": 7
        }
      ]
    },
    {
      "cell_type": "code",
      "source": [
        "# Download the WordNet database \n",
        "nltk.download('wordnet')\n",
        "nltk.download('omw-1.4')\n",
        "# Create the lemmatizer object \n",
        "lemmatizer = WordNetLemmatizer()"
      ],
      "metadata": {
        "colab": {
          "base_uri": "https://localhost:8080/"
        },
        "id": "0PwJWZy-cqVJ",
        "outputId": "4590fdfb-8cf7-45ca-9485-b5e5f9d39f99"
      },
      "execution_count": 33,
      "outputs": [
        {
          "output_type": "stream",
          "name": "stderr",
          "text": [
            "[nltk_data] Downloading package wordnet to /root/nltk_data...\n",
            "[nltk_data]   Package wordnet is already up-to-date!\n",
            "[nltk_data] Downloading package omw-1.4 to /root/nltk_data...\n"
          ]
        }
      ]
    },
    {
      "cell_type": "code",
      "source": [
        "# Create the function to preprocess the text \n",
        "\n",
        "def preprocess(text):\n",
        "  # get all the text in lowercase letters\n",
        "  text = text.lower()\n",
        "  # remove punctuation \n",
        "  text = text.translate(str.maketrans(\"\", \"\", string.punctuation))\n",
        "  # tokenize the text \n",
        "  text = nltk.word_tokenize(text)\n",
        "  # remove stopwords\n",
        "  text =  [word for word in text if word not in stopwords]\n",
        "  # lemmatize the text \n",
        "  text = [lemmatizer.lemmatize(token) for token in text]\n",
        "  return text"
      ],
      "metadata": {
        "id": "8GNqFQL4ZD0H"
      },
      "execution_count": 31,
      "outputs": []
    },
    {
      "cell_type": "code",
      "source": [
        "df['reviewText'][0]"
      ],
      "metadata": {
        "colab": {
          "base_uri": "https://localhost:8080/",
          "height": 104
        },
        "id": "y_DAgN_fgJV-",
        "outputId": "2ce50d8b-d068-4eb0-81f2-c8a19a821d13"
      },
      "execution_count": 36,
      "outputs": [
        {
          "output_type": "execute_result",
          "data": {
            "text/plain": [
              "\"Enjoyable mini games and slick graphics.  However, lacks the strategy and board game play like previous modes. All users travel together and game is rigged to balance out competition.  I would have liked classic mode to have at least been available as an option.  I've played a few times the first week and haven't touched it since. I'll play the GameCube versions when I want to play Mario party.\\n\\nPros: Great for younger kids & casual gamers\\nCons: Isn't designed for Mario Party fans\""
            ],
            "application/vnd.google.colaboratory.intrinsic+json": {
              "type": "string"
            }
          },
          "metadata": {},
          "execution_count": 36
        }
      ]
    },
    {
      "cell_type": "code",
      "source": [
        "phrase = df['reviewText'][0]\n",
        "preprocess(phrase)"
      ],
      "metadata": {
        "colab": {
          "base_uri": "https://localhost:8080/"
        },
        "id": "vq9UYJyqdE1f",
        "outputId": "a552e019-86a5-43f0-8e4d-48d96cf8539a"
      },
      "execution_count": 37,
      "outputs": [
        {
          "output_type": "execute_result",
          "data": {
            "text/plain": [
              "['enjoyable',\n",
              " 'mini',\n",
              " 'game',\n",
              " 'slick',\n",
              " 'graphic',\n",
              " 'however',\n",
              " 'lack',\n",
              " 'strategy',\n",
              " 'board',\n",
              " 'game',\n",
              " 'play',\n",
              " 'like',\n",
              " 'previous',\n",
              " 'mode',\n",
              " 'user',\n",
              " 'travel',\n",
              " 'together',\n",
              " 'game',\n",
              " 'rigged',\n",
              " 'balance',\n",
              " 'competition',\n",
              " 'would',\n",
              " 'liked',\n",
              " 'classic',\n",
              " 'mode',\n",
              " 'least',\n",
              " 'available',\n",
              " 'option',\n",
              " 'ive',\n",
              " 'played',\n",
              " 'time',\n",
              " 'first',\n",
              " 'week',\n",
              " 'havent',\n",
              " 'touched',\n",
              " 'since',\n",
              " 'ill',\n",
              " 'play',\n",
              " 'gamecube',\n",
              " 'version',\n",
              " 'want',\n",
              " 'play',\n",
              " 'mario',\n",
              " 'party',\n",
              " 'pro',\n",
              " 'great',\n",
              " 'younger',\n",
              " 'kid',\n",
              " 'casual',\n",
              " 'gamers',\n",
              " 'con',\n",
              " 'isnt',\n",
              " 'designed',\n",
              " 'mario',\n",
              " 'party',\n",
              " 'fan']"
            ]
          },
          "metadata": {},
          "execution_count": 37
        }
      ]
    },
    {
      "cell_type": "code",
      "source": [
        "# Apply the preprocess on the data\n",
        "df['reviewText'] = df['reviewText'].apply(preprocess)"
      ],
      "metadata": {
        "id": "sX0OzPDggit_"
      },
      "execution_count": 38,
      "outputs": []
    },
    {
      "cell_type": "code",
      "source": [
        "# create new csv with the preprocessed text, limited to the text and to the reviews \n",
        "df_preprocessed = df[['overall', 'reviewText']]\n",
        "df_preprocessed.to_csv('final.csv', index=False)"
      ],
      "metadata": {
        "id": "GWWbtoYvgxno"
      },
      "execution_count": 49,
      "outputs": []
    }
  ]
}