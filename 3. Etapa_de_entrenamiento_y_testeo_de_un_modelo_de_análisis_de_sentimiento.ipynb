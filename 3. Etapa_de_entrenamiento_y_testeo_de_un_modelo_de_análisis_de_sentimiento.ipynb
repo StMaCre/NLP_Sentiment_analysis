{
  "cells": [
    {
      "cell_type": "markdown",
      "metadata": {
        "id": "oqCxTdIQ0WxE"
      },
      "source": [
        "#  Etapa de entrenamiento y testeo de un modelo de análisis de sentimiento"
      ]
    },
    {
      "cell_type": "code",
      "execution_count": 1,
      "metadata": {
        "id": "FvwlfMZn0Upy"
      },
      "outputs": [],
      "source": [
        "# Import the libraries \n",
        "import pandas as pd\n",
        "from sklearn.model_selection import train_test_split\n",
        "from sklearn.feature_extraction.text import CountVectorizer\n",
        "from collections import Counter\n",
        "from sklearn.datasets import make_classification\n",
        "from sklearn.svm import SVC\n",
        "from sklearn.model_selection import GridSearchCV\n",
        "from sklearn.metrics import accuracy_score, precision_score, recall_score, f1_score\n",
        "from xgboost import XGBClassifier\n",
        "from sklearn.feature_extraction.text import TfidfVectorizer\n",
        "import string\n",
        "import nltk\n",
        "from nltk.corpus import stopwords\n",
        "from nltk.stem import WordNetLemmatizer"
      ]
    },
    {
      "cell_type": "code",
      "execution_count": 3,
      "metadata": {
        "id": "eotCT5KU0i92"
      },
      "outputs": [],
      "source": [
        "df = pd.read_csv('final.csv')"
      ]
    },
    {
      "cell_type": "code",
      "execution_count": 3,
      "metadata": {
        "id": "vZYYclAl1Qz6"
      },
      "outputs": [
        {
          "data": {
            "text/html": [
              "<div>\n",
              "<style scoped>\n",
              "    .dataframe tbody tr th:only-of-type {\n",
              "        vertical-align: middle;\n",
              "    }\n",
              "\n",
              "    .dataframe tbody tr th {\n",
              "        vertical-align: top;\n",
              "    }\n",
              "\n",
              "    .dataframe thead th {\n",
              "        text-align: right;\n",
              "    }\n",
              "</style>\n",
              "<table border=\"1\" class=\"dataframe\">\n",
              "  <thead>\n",
              "    <tr style=\"text-align: right;\">\n",
              "      <th></th>\n",
              "      <th>overall</th>\n",
              "      <th>reviewText</th>\n",
              "    </tr>\n",
              "  </thead>\n",
              "  <tbody>\n",
              "    <tr>\n",
              "      <th>0</th>\n",
              "      <td>4</td>\n",
              "      <td>['pretty', 'good', 'game', 'daughter', 'love',...</td>\n",
              "    </tr>\n",
              "    <tr>\n",
              "      <th>1</th>\n",
              "      <td>5</td>\n",
              "      <td>['first', 'let', 'clear', 'one', 'thing', 'rem...</td>\n",
              "    </tr>\n",
              "    <tr>\n",
              "      <th>2</th>\n",
              "      <td>1</td>\n",
              "      <td>['blue', 'button', 'stopped', 'working', 'quic...</td>\n",
              "    </tr>\n",
              "    <tr>\n",
              "      <th>3</th>\n",
              "      <td>2</td>\n",
              "      <td>['never', 'played', 'game', 'sc', 'series', 't...</td>\n",
              "    </tr>\n",
              "    <tr>\n",
              "      <th>4</th>\n",
              "      <td>2</td>\n",
              "      <td>['no', 'no']</td>\n",
              "    </tr>\n",
              "  </tbody>\n",
              "</table>\n",
              "</div>"
            ],
            "text/plain": [
              "   overall                                         reviewText\n",
              "0        4  ['pretty', 'good', 'game', 'daughter', 'love',...\n",
              "1        5  ['first', 'let', 'clear', 'one', 'thing', 'rem...\n",
              "2        1  ['blue', 'button', 'stopped', 'working', 'quic...\n",
              "3        2  ['never', 'played', 'game', 'sc', 'series', 't...\n",
              "4        2                                       ['no', 'no']"
            ]
          },
          "execution_count": 3,
          "metadata": {},
          "output_type": "execute_result"
        }
      ],
      "source": [
        "df.head()"
      ]
    },
    {
      "cell_type": "code",
      "execution_count": 4,
      "metadata": {
        "id": "2OkAehpd2bdS"
      },
      "outputs": [],
      "source": [
        "# map star ratings to sentiment labels (0 = negative, 1 = positive)\n",
        "etiqueta = {1: 0, 2: 0, 4: 1, 5: 1}\n",
        "df['etiqueta'] = df['overall'].map(etiqueta)\n",
        "\n",
        "X = df['reviewText']\n",
        "y = df['etiqueta']"
      ]
    },
    {
      "cell_type": "markdown",
      "metadata": {
        "id": "Dy7ta25M0bHy"
      },
      "source": [
        "# Split the data into training and testing "
      ]
    },
    {
      "cell_type": "code",
      "execution_count": 5,
      "metadata": {
        "id": "oIytfLfG3Vp9"
      },
      "outputs": [],
      "source": [
        "# Split the data into training data (80%) and testing data (20%)\n",
        "X_train, X_test, y_train, y_test = train_test_split(X, y, test_size=0.20, random_state=42)"
      ]
    },
    {
      "cell_type": "markdown",
      "metadata": {
        "id": "UcJ2KuLL09kx"
      },
      "source": [
        "# Term Frequency-Inverse Document Frequency"
      ]
    },
    {
      "cell_type": "markdown",
      "metadata": {
        "id": "emVPMiTgr6Cq"
      },
      "source": [
        "Explanation of the choice of parameters for tfidfVectorizer:\n",
        "\n",
        "\n",
        "*   min_df : set min_df to a higher value to exclude some of the less frequent words and potentially reduce noise in the data \n",
        "*   max_df : since we have seen that the average review is quite verbose, we decided to avoid using words that might be considered context-specific stopwords. \n",
        "*   ngram_range : we have set this feature to a serie of different values from up to 5 and tried it on a basic model. This value seems to be the best fit. \n",
        "* max_feature : with a cardinality of more than 40 000 this parameter had to be set quite high. We settled on 2000 since it had better result than at 500 (81% F1-score) and 1000 (83% F1-score). Setting it higher seemed to create too much computational demand and might as well lead to overfitting. \n",
        "\n"
      ]
    },
    {
      "cell_type": "code",
      "execution_count": 6,
      "metadata": {
        "id": "Q7sgZ7a7aDBX"
      },
      "outputs": [],
      "source": [
        "vectorizer = TfidfVectorizer(min_df=50, max_df=0.90, ngram_range=(1,4), max_features=2000)\n",
        "vectorizer.fit(X) \n",
        "X_train_tf = vectorizer.transform(X_train)  # Taking X as input and converting into feature matrix(numerical values)\n",
        "X_train_tf = X_train_tf.todense()\n",
        "X_test_tf = vectorizer.transform(X_test)  # Taking X as input and converting into feature matrix(numerical values)\n",
        "X_test_tf = X_test_tf.todense()"
      ]
    },
    {
      "attachments": {},
      "cell_type": "markdown",
      "metadata": {
        "id": "I_LkTJ5J1GYI"
      },
      "source": [
        "# First model: SVC"
      ]
    },
    {
      "cell_type": "code",
      "execution_count": 7,
      "metadata": {
        "colab": {
          "base_uri": "https://localhost:8080/"
        },
        "id": "y2GBzk6SLAvc",
        "outputId": "4c59c677-10e5-4208-9c57-2527c9a05b63"
      },
      "outputs": [
        {
          "name": "stderr",
          "output_type": "stream",
          "text": [
            "c:\\Users\\Stephanie\\OneDrive\\Coding\\Projets\\2302_NLPHW\\env\\lib\\site-packages\\sklearn\\utils\\validation.py:593: FutureWarning: np.matrix usage is deprecated in 1.0 and will raise a TypeError in 1.2. Please convert to a numpy array with np.asarray. For more information see: https://numpy.org/doc/stable/reference/generated/numpy.matrix.html\n",
            "  warnings.warn(\n",
            "c:\\Users\\Stephanie\\OneDrive\\Coding\\Projets\\2302_NLPHW\\env\\lib\\site-packages\\sklearn\\utils\\validation.py:593: FutureWarning: np.matrix usage is deprecated in 1.0 and will raise a TypeError in 1.2. Please convert to a numpy array with np.asarray. For more information see: https://numpy.org/doc/stable/reference/generated/numpy.matrix.html\n",
            "  warnings.warn(\n"
          ]
        },
        {
          "name": "stdout",
          "output_type": "stream",
          "text": [
            "Accuracy: 0.8435\n",
            "Precision: 0.8508728179551123\n",
            "Recall: 0.839153959665519\n",
            "F1-score: 0.844972758791481\n"
          ]
        }
      ],
      "source": [
        "# Instantiate SVM model with basic hyperparameters\n",
        "svc = SVC(kernel='linear', C=1, random_state=42)\n",
        "\n",
        "# Train SVM model on the training set\n",
        "svc.fit(X_train_tf, y_train)\n",
        "\n",
        "# Use the trained SVM model to predict sentiment of test set\n",
        "y_pred = svc.predict(X_test_tf)\n",
        "\n",
        "# Evaluate performance of SVM model using accuracy, precision, recall, and F1-score\n",
        "acc = accuracy_score(y_test, y_pred)\n",
        "prec = precision_score(y_test, y_pred)\n",
        "rec = recall_score(y_test, y_pred)\n",
        "f1 = f1_score(y_test, y_pred)\n",
        "\n",
        "print(\"Accuracy:\", acc)\n",
        "print(\"Precision:\", prec)\n",
        "print(\"Recall:\", rec)\n",
        "print(\"F1-score:\", f1)"
      ]
    },
    {
      "cell_type": "code",
      "execution_count": 11,
      "metadata": {
        "id": "dUjzttAmRc3S"
      },
      "outputs": [],
      "source": [
        "# Creating a function to find the best parameters\n",
        "def svc_tuning(X_train, y_train, X_test, y_test):\n",
        "    # Set the parameters for grid search\n",
        "    param_grid = {'C': [0.1, 1, 10, 100], 'gamma': [0.001, 0.01, 0.1, 1, 10], 'kernel': ['poly', 'rbf', 'sigmoid', 'linear']}\n",
        "    \n",
        "    # Create a SVM classifier object\n",
        "    svc = SVC()\n",
        "    \n",
        "    # Create a GridSearchCV object\n",
        "    grid_search = GridSearchCV(svc, param_grid, cv=5, scoring='accuracy', n_jobs=-1)\n",
        "    \n",
        "    # Fit the GridSearchCV object to the training data\n",
        "    grid_search.fit(X_train, y_train)\n",
        "    \n",
        "    # Use the best model from the grid search to make prediticons on the test data\n",
        "    y_pred = grid_search.predict(X_test)\n",
        "    \n",
        "    # Calculate and print the accuracy, precision, recall, and F1-score\n",
        "    accuracy = accuracy_score(y_test, y_pred)\n",
        "    precision = precision_score(y_test, y_pred)\n",
        "    recall = recall_score(y_test, y_pred)\n",
        "    f1 = f1_score(y_test, y_pred)\n",
        "    \n",
        "    print('Best parameters:', grid_search.best_params_)\n",
        "    print('Accuracy:', accuracy)\n",
        "    print('Precision:', precision)\n",
        "    print('Recall:', recall)\n",
        "    print('F1-score:', f1)"
      ]
    },
    {
      "cell_type": "code",
      "execution_count": 12,
      "metadata": {
        "id": "OCsv9wFbRiD8"
      },
      "outputs": [
        {
          "name": "stderr",
          "output_type": "stream",
          "text": [
            "c:\\Users\\Stephanie\\OneDrive\\Coding\\Projets\\2302_NLPHW\\env\\lib\\site-packages\\sklearn\\utils\\validation.py:593: FutureWarning: np.matrix usage is deprecated in 1.0 and will raise a TypeError in 1.2. Please convert to a numpy array with np.asarray. For more information see: https://numpy.org/doc/stable/reference/generated/numpy.matrix.html\n",
            "  warnings.warn(\n",
            "c:\\Users\\Stephanie\\OneDrive\\Coding\\Projets\\2302_NLPHW\\env\\lib\\site-packages\\sklearn\\utils\\validation.py:593: FutureWarning: np.matrix usage is deprecated in 1.0 and will raise a TypeError in 1.2. Please convert to a numpy array with np.asarray. For more information see: https://numpy.org/doc/stable/reference/generated/numpy.matrix.html\n",
            "  warnings.warn(\n"
          ]
        },
        {
          "name": "stdout",
          "output_type": "stream",
          "text": [
            "Best parameters: {'C': 1, 'gamma': 1, 'kernel': 'rbf'}\n",
            "Accuracy: 0.81525\n",
            "Precision: 0.8355809128630706\n",
            "Recall: 0.7924249877029022\n",
            "F1-score: 0.8134309517798536\n"
          ]
        }
      ],
      "source": [
        "svc_tuning(X_train_tf[0:2000], y_train[0:2000], X_test_tf, y_test)"
      ]
    },
    {
      "cell_type": "code",
      "execution_count": 13,
      "metadata": {
        "colab": {
          "base_uri": "https://localhost:8080/"
        },
        "id": "FDWstzw7y5ym",
        "outputId": "bc782194-409f-4e80-8978-41eacfc42ab6"
      },
      "outputs": [
        {
          "name": "stderr",
          "output_type": "stream",
          "text": [
            "c:\\Users\\Stephanie\\OneDrive\\Coding\\Projets\\2302_NLPHW\\env\\lib\\site-packages\\sklearn\\utils\\validation.py:593: FutureWarning: np.matrix usage is deprecated in 1.0 and will raise a TypeError in 1.2. Please convert to a numpy array with np.asarray. For more information see: https://numpy.org/doc/stable/reference/generated/numpy.matrix.html\n",
            "  warnings.warn(\n",
            "c:\\Users\\Stephanie\\OneDrive\\Coding\\Projets\\2302_NLPHW\\env\\lib\\site-packages\\sklearn\\utils\\validation.py:593: FutureWarning: np.matrix usage is deprecated in 1.0 and will raise a TypeError in 1.2. Please convert to a numpy array with np.asarray. For more information see: https://numpy.org/doc/stable/reference/generated/numpy.matrix.html\n",
            "  warnings.warn(\n"
          ]
        },
        {
          "name": "stdout",
          "output_type": "stream",
          "text": [
            "Accuracy: 0.85275\n",
            "Precision: 0.8553149606299213\n",
            "Recall: 0.8548942449581899\n",
            "F1-score: 0.8551045510455104\n"
          ]
        }
      ],
      "source": [
        "# Instantiate SVM model with best hyperparameters\n",
        "svc = SVC(kernel='rbf', C=1, gamma=1, random_state=42)\n",
        "\n",
        "# Train SVM model on the training set\n",
        "svc.fit(X_train_tf, y_train)\n",
        "\n",
        "# Use the trained SVM model to predict sentiment of test set\n",
        "y_pred = svc.predict(X_test_tf)\n",
        "\n",
        "# Evaluate performance of SVM model using accuracy, precision, recall, and F1-score\n",
        "acc = accuracy_score(y_test, y_pred)\n",
        "prec = precision_score(y_test, y_pred)\n",
        "rec = recall_score(y_test, y_pred)\n",
        "f1 = f1_score(y_test, y_pred)\n",
        "\n",
        "print(\"Accuracy:\", acc)\n",
        "print(\"Precision:\", prec)\n",
        "print(\"Recall:\", rec)\n",
        "print(\"F1-score:\", f1)"
      ]
    },
    {
      "cell_type": "markdown",
      "metadata": {
        "id": "GL5eU9P81Hph"
      },
      "source": [
        "# Second model: XGBoost"
      ]
    },
    {
      "cell_type": "code",
      "execution_count": null,
      "metadata": {
        "colab": {
          "base_uri": "https://localhost:8080/"
        },
        "id": "DXuQNevbfDmL",
        "outputId": "f8bfc44d-15a6-48a0-9da9-94720b0d42e0"
      },
      "outputs": [
        {
          "name": "stdout",
          "output_type": "stream",
          "text": [
            "Fitting 5 folds for each of 243 candidates, totalling 1215 fits\n",
            "Best parameters: {'colsample_bytree': 0.5, 'gamma': 0.1, 'learning_rate': 0.1, 'max_depth': 7, 'subsample': 0.5}\n",
            "Best score: 0.7799999999999999\n"
          ]
        }
      ],
      "source": [
        "# Define the XGBoost model\n",
        "xgb_model = XGBClassifier()\n",
        "\n",
        "# Define the parameter grid\n",
        "params = {\n",
        "    \"learning_rate\": [0.1, 0.01, 0.001],\n",
        "    \"max_depth\": [3, 5, 7],\n",
        "    \"subsample\": [0.5, 0.8, 1.0],\n",
        "    \"colsample_bytree\": [0.5, 0.8, 1.0],\n",
        "    \"gamma\": [0.01, 0.1, 1.0]\n",
        "}\n",
        "\n",
        "# Define the grid search\n",
        "grid_search = GridSearchCV(\n",
        "    estimator=xgb_model,\n",
        "    param_grid=params,\n",
        "    cv=5,\n",
        "    n_jobs=-1,\n",
        "    verbose=3\n",
        ")\n",
        "\n",
        "# Fit the grid search to the training data\n",
        "grid_search.fit(X_train_tf[:2000], y_train[:2000])\n",
        "\n",
        "# Print the best parameters and the corresponding score\n",
        "print(\"Best parameters:\", grid_search.best_params_)\n",
        "print(\"Best score:\", grid_search.best_score_)"
      ]
    },
    {
      "cell_type": "code",
      "execution_count": 19,
      "metadata": {
        "id": "pQ-VkHCqYIa1"
      },
      "outputs": [],
      "source": [
        "# Define XGBoost model\n",
        "xgb_model = XGBClassifier(\n",
        "    n_estimators=1000,\n",
        "    max_depth=7,\n",
        "    learning_rate=0.1,\n",
        "    subsample=0.5,\n",
        "    colsample_bytree=0.5,\n",
        "    gamma = 0.1, \n",
        "    random_state=42\n",
        ")\n",
        "\n",
        "# Train XGBoost model\n",
        "xgb_model.fit(X_train_tf, y_train)\n",
        "\n",
        "# Evaluate XGBoost model\n",
        "y_pred = xgb_model.predict(X_test_tf)\n",
        "accuracy = accuracy_score(y_test, y_pred)"
      ]
    },
    {
      "cell_type": "code",
      "execution_count": 20,
      "metadata": {
        "colab": {
          "base_uri": "https://localhost:8080/"
        },
        "id": "lvsZjPniY3Jh",
        "outputId": "475720a0-91bf-406b-9e69-b2a343ba077b"
      },
      "outputs": [
        {
          "name": "stdout",
          "output_type": "stream",
          "text": [
            "0.853\n"
          ]
        }
      ],
      "source": [
        "print(accuracy)"
      ]
    }
  ],
  "metadata": {
    "accelerator": "GPU",
    "colab": {
      "provenance": []
    },
    "gpuClass": "premium",
    "kernelspec": {
      "display_name": "Python 3",
      "language": "python",
      "name": "python3"
    },
    "language_info": {
      "codemirror_mode": {
        "name": "ipython",
        "version": 3
      },
      "file_extension": ".py",
      "mimetype": "text/x-python",
      "name": "python",
      "nbconvert_exporter": "python",
      "pygments_lexer": "ipython3",
      "version": "3.10.5"
    },
    "vscode": {
      "interpreter": {
        "hash": "279e41f851e3a758ad70de47b59217a5307449cfb5bf9da795e3f338ef26c0e0"
      }
    }
  },
  "nbformat": 4,
  "nbformat_minor": 0
}
